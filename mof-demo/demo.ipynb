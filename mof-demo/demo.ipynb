{
 "cells": [
  {
   "cell_type": "markdown",
   "id": "03eb7867",
   "metadata": {},
   "source": [
    "### Requirements\n",
    "\n",
    "##### Install RISE slide show\n",
    "- https://rise.readthedocs.io/en/latest/\n",
    "\n",
    "##### Install Python packages\n",
    "- pandas\n",
    "- ipython\n",
    "\n",
    "Install with the command: ```pip install <library>```\n",
    "\n",
    "##### Run docker daemon on your computer\n"
   ]
  },
  {
   "cell_type": "code",
   "execution_count": null,
   "id": "38339208-33c7-44e9-9ed8-e30deb77a601",
   "metadata": {
    "scrolled": true,
    "slideshow": {
     "slide_type": ""
    },
    "tags": []
   },
   "outputs": [],
   "source": [
    "import requests\n",
    "import os\n",
    "import json\n",
    "import pandas as pd\n",
    "from IPython.display import Markdown as md"
   ]
  },
  {
   "cell_type": "code",
   "execution_count": null,
   "id": "1f307bd9",
   "metadata": {
    "scrolled": true
   },
   "outputs": [],
   "source": [
    "def view_json(file):\n",
    "    with open(file, 'r') as json_file:\n",
    "        json_object = json.load(json_file)\n",
    "    print(json.dumps(json_object, indent=2))"
   ]
  },
  {
   "cell_type": "code",
   "execution_count": null,
   "id": "cf5c68c2",
   "metadata": {},
   "outputs": [],
   "source": [
    "input_folder = '../input-examples/omop-fhir-data/synthea-random-020/'\n",
    "output_folder = '../docker-compose/convert/volume/output/'\n",
    "whistle_mappings_folder = '../whistle-mappings/synthea/'\n",
    "validate_folder = '../docker-compose/validate/'"
   ]
  },
  {
   "cell_type": "markdown",
   "id": "ead883ac-958e-47a3-bd77-3f015b5013f1",
   "metadata": {},
   "source": [
    "### Setup Dockers and Data"
   ]
  },
  {
   "cell_type": "code",
   "execution_count": null,
   "id": "3071ef03-1ee1-4616-9a0b-e798606854a6",
   "metadata": {
    "scrolled": false,
    "tags": []
   },
   "outputs": [],
   "source": [
    "%%bash\n",
    "../docker-compose/bin/all-down.sh"
   ]
  },
  {
   "cell_type": "code",
   "execution_count": null,
   "id": "72dbdef3",
   "metadata": {
    "tags": []
   },
   "outputs": [],
   "source": [
    "%%bash\n",
    "../docker-compose/bin/all-build.sh >/dev/null 2>&1 &"
   ]
  },
  {
   "cell_type": "code",
   "execution_count": null,
   "id": "577aeb52-a337-472c-97c3-778f88382ab0",
   "metadata": {
    "scrolled": false,
    "tags": []
   },
   "outputs": [],
   "source": [
    "%%bash\n",
    "../docker-compose/bin/hapi-up.sh >/dev/null 2>&1 &"
   ]
  },
  {
   "cell_type": "code",
   "execution_count": null,
   "id": "1bdd1407-8aec-44f3-94cf-f4e54d6bd8a6",
   "metadata": {
    "scrolled": false,
    "tags": []
   },
   "outputs": [],
   "source": [
    "%%bash\n",
    "../docker-compose/bin/omop-fhir-data-update.sh >/dev/null 2>&1 &"
   ]
  },
  {
   "cell_type": "code",
   "execution_count": null,
   "id": "b375bba5-4b7d-4d2c-8754-96a76cdb093e",
   "metadata": {
    "scrolled": true,
    "tags": []
   },
   "outputs": [],
   "source": [
    "%%bash\n",
    "docker ps -a"
   ]
  },
  {
   "cell_type": "markdown",
   "id": "b7266f18",
   "metadata": {},
   "source": [
    "### Start the RISE slideshow on the next slide\n",
    "- SPACE BAR = next slide\n",
    "- SHIFT + SPACE BAR = previous slide\n",
    "- SHIFT + ENTER = Run cell"
   ]
  },
  {
   "cell_type": "markdown",
   "id": "39e600be",
   "metadata": {
    "slideshow": {
     "slide_type": "slide"
    }
   },
   "source": [
    "# OMOP-to-BULK FHIR: A tool to convert population level clinical data into standardized FHIR batch data\n",
    "\n",
    "\n",
    "**Andrey Soares, PhD**  \n",
    "Department of Medicine, University of Colorado Anschutz Medical Campus  \n",
    "\n",
    "**Shahim Essaid, MD**  \n",
    "Department of Biomedical Informatics, University of Colorado Anschutz Medical Campus  \n",
    "\n",
    "**Michael G. Kahn, MD**  \n",
    "Department of Biomedical Informatics, University of Colorado Anschutz Medical Campus  \n",
    "\n",
    "\n",
    "\n",
    "##### Source: https://github.com/CU-DBMI/mends-on-fhir"
   ]
  },
  {
   "cell_type": "markdown",
   "id": "ffeea346-c7e0-43f5-8e6a-458a377f718a",
   "metadata": {
    "slideshow": {
     "slide_type": "slide"
    },
    "tags": []
   },
   "source": [
    "### MENDS-on-FHIR\n",
    "![Overall Design](../assets/images/MENDS-generalized.png)\n",
    "* Multi-state EHR-based Network for Disease Surveillance (MENDS)"
   ]
  },
  {
   "cell_type": "markdown",
   "id": "90b6898b-cacf-41f6-b1cf-3de45ca80b58",
   "metadata": {
    "slideshow": {
     "slide_type": "slide"
    },
    "tags": []
   },
   "source": [
    "### View OMOP Source Data"
   ]
  },
  {
   "cell_type": "code",
   "execution_count": null,
   "id": "e334626d",
   "metadata": {
    "scrolled": false,
    "slideshow": {
     "slide_type": "subslide"
    }
   },
   "outputs": [],
   "source": [
    "view_json(input_folder + 'Person_0000000000.json')"
   ]
  },
  {
   "cell_type": "code",
   "execution_count": null,
   "id": "468ad49f-f082-4554-b9fc-d5e7ffaf2b6e",
   "metadata": {
    "scrolled": false,
    "slideshow": {
     "slide_type": "subslide"
    }
   },
   "outputs": [],
   "source": [
    "view_json(input_folder + 'Condition_Occurrence_0000000000.json')"
   ]
  },
  {
   "cell_type": "code",
   "execution_count": null,
   "id": "aa7fa3e5-bdcc-44e0-8053-6a5a9fc7830e",
   "metadata": {
    "scrolled": false,
    "slideshow": {
     "slide_type": "subslide"
    }
   },
   "outputs": [],
   "source": [
    "view_json(input_folder + 'Measurement_0000000000.json')"
   ]
  },
  {
   "cell_type": "code",
   "execution_count": null,
   "id": "9774ea13-4d32-4769-a8fe-b00f86f4c371",
   "metadata": {
    "scrolled": false,
    "slideshow": {
     "slide_type": "subslide"
    }
   },
   "outputs": [],
   "source": [
    "view_json(input_folder + 'Drug_Exposure_0000000000.json')"
   ]
  },
  {
   "cell_type": "markdown",
   "id": "4c1a48a7-8672-4f69-bbc5-ed1cdfd506ab",
   "metadata": {
    "slideshow": {
     "slide_type": "slide"
    },
    "tags": []
   },
   "source": [
    "### Sample Concept Map"
   ]
  },
  {
   "cell_type": "code",
   "execution_count": null,
   "id": "c1a6bd03",
   "metadata": {
    "scrolled": false,
    "slideshow": {
     "slide_type": "subslide"
    }
   },
   "outputs": [],
   "source": [
    "view_json(whistle_mappings_folder + 'concept-maps/Person.ethnicity.conceptid.json') "
   ]
  },
  {
   "cell_type": "markdown",
   "id": "eb765e37-e2e0-4837-a55e-8c3762115740",
   "metadata": {
    "slideshow": {
     "slide_type": "slide"
    }
   },
   "source": [
    "### Sample Whistle Transformation"
   ]
  },
  {
   "cell_type": "code",
   "execution_count": null,
   "id": "a0000d80",
   "metadata": {
    "scrolled": false,
    "slideshow": {
     "slide_type": "subslide"
    }
   },
   "outputs": [],
   "source": [
    "f = open(whistle_mappings_folder + '/whistle-functions/Drug_Exposure.wstl', \"r\")\n",
    "print(f.read())"
   ]
  },
  {
   "cell_type": "code",
   "execution_count": null,
   "id": "d8f2fe83",
   "metadata": {
    "slideshow": {
     "slide_type": "subslide"
    }
   },
   "outputs": [],
   "source": [
    "f = open(whistle_mappings_folder + '/whistle-functions/Observation_Smoking.wstl', \"r\")\n",
    "print(f.read())"
   ]
  },
  {
   "cell_type": "markdown",
   "id": "80fa060f-07f9-4ea7-a97a-af6ebf4d5d82",
   "metadata": {
    "slideshow": {
     "slide_type": "slide"
    },
    "tags": []
   },
   "source": [
    "### Convert OMOP Data to FHIR Resources"
   ]
  },
  {
   "cell_type": "code",
   "execution_count": null,
   "id": "c6d13050-895a-487a-bc7d-5ed35f838fb1",
   "metadata": {
    "scrolled": false
   },
   "outputs": [],
   "source": [
    "%%bash\n",
    "../docker-compose/bin/convert-up.sh >/dev/null 2>&1 &"
   ]
  },
  {
   "cell_type": "markdown",
   "id": "f5f3f4ec-66f8-40f3-a06c-1cc421d8125b",
   "metadata": {
    "slideshow": {
     "slide_type": "slide"
    },
    "tags": []
   },
   "source": [
    "### View FHIR Resource"
   ]
  },
  {
   "cell_type": "code",
   "execution_count": null,
   "id": "e49936de-05a9-4495-9627-e2119712d4b3",
   "metadata": {
    "scrolled": false,
    "slideshow": {
     "slide_type": "subslide"
    }
   },
   "outputs": [],
   "source": [
    "view_json(output_folder + 'Person_0000000000.output.json')"
   ]
  },
  {
   "cell_type": "code",
   "execution_count": null,
   "id": "03b29a74-e927-47c1-b06d-80f2b2bf9d99",
   "metadata": {
    "scrolled": false,
    "slideshow": {
     "slide_type": "subslide"
    }
   },
   "outputs": [],
   "source": [
    "view_json(output_folder + 'Condition_Occurrence_0000000000.output.json')"
   ]
  },
  {
   "cell_type": "code",
   "execution_count": null,
   "id": "93a92bf8-8a00-4b28-8bee-71a610c31755",
   "metadata": {
    "scrolled": false,
    "slideshow": {
     "slide_type": "subslide"
    }
   },
   "outputs": [],
   "source": [
    "view_json(output_folder + 'Visit_Occurrence_0000000000.output.json')"
   ]
  },
  {
   "cell_type": "code",
   "execution_count": null,
   "id": "dac0974b-73d3-4519-af1e-85b87b7debfd",
   "metadata": {
    "scrolled": false,
    "slideshow": {
     "slide_type": "subslide"
    }
   },
   "outputs": [],
   "source": [
    "view_json(output_folder + 'Measurement_0000000000.output.json')"
   ]
  },
  {
   "cell_type": "code",
   "execution_count": null,
   "id": "4c6a550e-37ea-46f2-93f3-16c94165fa74",
   "metadata": {
    "scrolled": false,
    "slideshow": {
     "slide_type": "subslide"
    },
    "tags": []
   },
   "outputs": [],
   "source": [
    "view_json(output_folder + 'Drug_Exposure_0000000000.output.json')"
   ]
  },
  {
   "cell_type": "markdown",
   "id": "f3f14a97-e781-460a-85c4-452c98ac2d3e",
   "metadata": {
    "slideshow": {
     "slide_type": "slide"
    },
    "tags": []
   },
   "source": [
    "### Validate FHIR Resources"
   ]
  },
  {
   "cell_type": "code",
   "execution_count": null,
   "id": "ff5bca28-f9e1-4277-ab40-583ea1f9e3ae",
   "metadata": {
    "scrolled": false,
    "slideshow": {
     "slide_type": "subslide"
    }
   },
   "outputs": [],
   "source": [
    "%%bash\n",
    "../docker-compose/bin/validate-up.sh"
   ]
  },
  {
   "cell_type": "code",
   "execution_count": null,
   "id": "260bd429-5e58-4c00-b29a-27dfda2cd2b3",
   "metadata": {
    "scrolled": false,
    "slideshow": {
     "slide_type": "subslide"
    }
   },
   "outputs": [],
   "source": [
    "\n",
    "folder = validate_folder + 'volume/results'\n",
    "for file in sorted(os.listdir(folder), reverse=True):\n",
    "    if file.endswith(\".html\"):\n",
    "        filename = os.path.join(folder, file)\n",
    "md(\"## View [Validation Result](%s)\"%(filename))"
   ]
  },
  {
   "cell_type": "markdown",
   "id": "7271e87a",
   "metadata": {
    "slideshow": {
     "slide_type": "slide"
    }
   },
   "source": [
    "### Count Condition Resources Before Load"
   ]
  },
  {
   "cell_type": "code",
   "execution_count": null,
   "id": "f51d2881",
   "metadata": {
    "scrolled": false,
    "slideshow": {
     "slide_type": "subslide"
    }
   },
   "outputs": [],
   "source": [
    "try:\n",
    "    response = requests.get(url = 'http://localhost:8080/fhir/Condition')\n",
    "    print(response.text)\n",
    "except:\n",
    "    pass"
   ]
  },
  {
   "cell_type": "markdown",
   "id": "23f6a63f-1eeb-4edd-979f-ffdade24db76",
   "metadata": {
    "slideshow": {
     "slide_type": "slide"
    },
    "tags": []
   },
   "source": [
    "### Load FHIR Resources to HAPI FHIR Server"
   ]
  },
  {
   "cell_type": "code",
   "execution_count": null,
   "id": "9d878913",
   "metadata": {
    "slideshow": {
     "slide_type": "subslide"
    }
   },
   "outputs": [],
   "source": [
    "%%bash\n",
    "../docker-compose/bin/load-up.sh"
   ]
  },
  {
   "cell_type": "markdown",
   "id": "f7a422ca",
   "metadata": {
    "slideshow": {
     "slide_type": "slide"
    },
    "tags": []
   },
   "source": [
    "### Retrieving Condition #1 in HAPI FHIR Server"
   ]
  },
  {
   "cell_type": "code",
   "execution_count": null,
   "id": "5967fe52-5f03-4180-b6b9-95180bbcb24e",
   "metadata": {
    "scrolled": false,
    "slideshow": {
     "slide_type": "subslide"
    }
   },
   "outputs": [],
   "source": [
    "try:\n",
    "    response = requests.get(url = 'http://localhost:8080/fhir/Condition/1')\n",
    "    print(response.text)\n",
    "except:\n",
    "    pass"
   ]
  },
  {
   "cell_type": "markdown",
   "id": "8c5657cd",
   "metadata": {
    "slideshow": {
     "slide_type": "slide"
    }
   },
   "source": [
    "### Searching All Conditions"
   ]
  },
  {
   "cell_type": "code",
   "execution_count": null,
   "id": "3287c1a9",
   "metadata": {
    "scrolled": false,
    "slideshow": {
     "slide_type": "subslide"
    }
   },
   "outputs": [],
   "source": [
    "try:\n",
    "    response = requests.get(url = 'http://localhost:8080/fhir/Condition')\n",
    "    print(response.text)\n",
    "except:\n",
    "    pass"
   ]
  },
  {
   "cell_type": "code",
   "execution_count": null,
   "id": "1a01ae6b-3f8c-49e9-8619-09d73ffba482",
   "metadata": {
    "scrolled": false,
    "slideshow": {
     "slide_type": "subslide"
    },
    "tags": []
   },
   "outputs": [],
   "source": [
    "md(\"## Open <a href=\\\"http://localhost:8080\\\">HAPI FHIR Server</a>\")"
   ]
  }
 ],
 "metadata": {
  "celltoolbar": "Slideshow",
  "kernelspec": {
   "display_name": "Python 3 (ipykernel)",
   "language": "python",
   "name": "python3"
  },
  "language_info": {
   "codemirror_mode": {
    "name": "ipython",
    "version": 3
   },
   "file_extension": ".py",
   "mimetype": "text/x-python",
   "name": "python",
   "nbconvert_exporter": "python",
   "pygments_lexer": "ipython3",
   "version": "3.11.4"
  },
  "rise": {
   "center": false,
   "height": "100%",
   "scroll": true,
   "width": "100%"
  }
 },
 "nbformat": 4,
 "nbformat_minor": 5
}
